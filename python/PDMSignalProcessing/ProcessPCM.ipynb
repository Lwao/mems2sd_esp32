{
 "cells": [
  {
   "cell_type": "code",
   "execution_count": 1,
   "metadata": {},
   "outputs": [],
   "source": [
    "# libraries\n",
    "%load_ext autoreload\n",
    "%autoreload 2\n",
    "\n",
    "import numpy as np\n",
    "import soundfile as sf\n",
    "import sounddevice as sd\n",
    "import matplotlib.pyplot as plt\n",
    "import sys\n",
    "%matplotlib inline\n",
    "\n",
    "from PDM2PCM import *\n",
    "from PCM2PDM import *\n",
    "from Serialize import *\n",
    "from PlotSuite import *"
   ]
  },
  {
   "cell_type": "code",
   "execution_count": null,
   "metadata": {},
   "outputs": [],
   "source": [
    "fname = \"sine_wave_cross_testing_pcm_44100khz\"\n",
    "wd = r\"C:/Users/levyg/Documents/MEGA/Repositories/mems2sd_esp32/python/PDMSignalProcessing/data/\"\n",
    "fs_pcm = 44100\n",
    "data_pcm, _ = sf.read( \n",
    "                        wd+fname, \n",
    "                        channels=1, \n",
    "                        samplerate=int(fs_pcm), \n",
    "                        format='RAW', \n",
    "                        endian='BIG', \n",
    "                        subtype='PCM_16', \n",
    "                        dtype=np.int16\n",
    "                    )\n",
    "data_pcm = data_pcm[int(2e5):int(2e5+2**16)]"
   ]
  },
  {
   "cell_type": "code",
   "execution_count": null,
   "metadata": {},
   "outputs": [],
   "source": [
    "full_plot(data_pcm, fs_pcm, short=False, title='44100kHz PCM data - 10kHz sine wave')"
   ]
  }
 ],
 "metadata": {
  "interpreter": {
   "hash": "7ad5a435a333bb0f4143d952eb3b8ab65d18edbc9bb337e363118d97a6ce541a"
  },
  "kernelspec": {
   "display_name": "Python 3.8.10 ('base')",
   "language": "python",
   "name": "python3"
  },
  "language_info": {
   "codemirror_mode": {
    "name": "ipython",
    "version": 3
   },
   "file_extension": ".py",
   "mimetype": "text/x-python",
   "name": "python",
   "nbconvert_exporter": "python",
   "pygments_lexer": "ipython3",
   "version": "3.8.10"
  },
  "orig_nbformat": 4
 },
 "nbformat": 4,
 "nbformat_minor": 2
}
